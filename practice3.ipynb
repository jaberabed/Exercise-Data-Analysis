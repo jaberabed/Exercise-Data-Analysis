#We're getting data as some JSON, we've made it a pandas df
#could be any number of rows, any number of columns, there's a lack of structure to what we might get
#let's say it's a financial setting, we want to check any quantitative columns for numbers that are way to big



#one way to iterate through a dataframe

 #first establish the first column to iterate through
#working_column = 0
    #Have for loop that goes through all the columns
def check_for_unusual_values(df):
    for column in range(0,(df.shape[1])):
    #Check if column is quantitative
        if (type(df.iloc[0][column]) == np.float64) or (type(df.iloc[0][column]) == np.int64):
    #THEN go into for loop going down through all rows in that column
            for row in range(0, (df.shape[0])):
                if df.iloc[row][column] > 9.9:
                #print("unusual value detected at "+str(row)+","+str(column))
                    print(f"unusual value detected at {row},{column}")
