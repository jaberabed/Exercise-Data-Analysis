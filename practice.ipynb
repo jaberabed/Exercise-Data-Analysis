{
 "cells": [
  {
   "cell_type": "code",
   "execution_count": 1,
   "metadata": {},
   "outputs": [],
   "source": [
    "list = [1,6,9,1.11,5,'kvjekkemrnkve', 3.17]\n",
    "len(list)\n",
    "\n",
    "My_tuple = (3, 5, 7, 8)\n",
    "My_dictionary = {'name': 'Bob', 'age': 36} \n",
    "# my_json = {'first name': 'Abed', 'last name': 'Jaber', 'age': 36, 'hair': 'red', 'dob': '1986-05-14'}\n",
    "My_list =  [2, 7.9, 3, 'sdfsdf',1.67]\n",
    "My_set = [1,  2, 3, 'dsfsdf', 3.6]\n",
    "len(My_list)"
   ]
  }
 ],
 "metadata": {
  "kernelspec": {
   "display_name": "Python 3.11.4 64-bit",
   "language": "python",
   "name": "python3"
  },
  "language_info": {
   "codemirror_mode": {
    "name": "ipython",
    "version": 3
   },
   "file_extension": ".py",
   "mimetype": "text/x-python",
   "name": "python",
   "nbconvert_exporter": "python",
   "pygments_lexer": "ipython3",
   "version": "3.11.4"
  },
  "orig_nbformat": 4,
  "vscode": {
   "interpreter": {
    "hash": "c261aea317cc0286b3b3261fbba9abdec21eaa57589985bb7a274bf54d6cc0a7"
   }
  }
 },
 "nbformat": 4,
 "nbformat_minor": 2
}
